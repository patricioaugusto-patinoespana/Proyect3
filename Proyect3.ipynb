{
 "cells": [
  {
   "cell_type": "code",
   "execution_count": null,
   "id": "577f233e-7192-499a-96ab-259a84309aac",
   "metadata": {
    "tags": []
   },
   "outputs": [],
   "source": [
    "import pandas as pd\n",
    "import csv\n",
    "import numpy as np\n",
    "from fuzzywuzzy import process"
   ]
  },
  {
   "cell_type": "code",
   "execution_count": null,
   "id": "b28a080a-9e5d-46c9-bdfc-396fb1e87f36",
   "metadata": {
    "tags": []
   },
   "outputs": [],
   "source": [
    "items = \"items.csv\"\n",
    "\n",
    "items_data = pd.read_csv(items, low_memory=False)\n",
    "\n",
    "items_data.head()"
   ]
  },
  {
   "cell_type": "code",
   "execution_count": null,
   "id": "dc2d4e36-32dd-477b-a3c3-8ab9ce1c854d",
   "metadata": {
    "tags": []
   },
   "outputs": [],
   "source": [
    "sales = \"sales.csv\"\n",
    "\n",
    "sales_data = pd.read_csv(sales, low_memory=False)\n",
    "\n",
    "sales_data.head()"
   ]
  },
  {
   "cell_type": "code",
   "execution_count": null,
   "id": "e10f36c1-c808-4ec9-8c08-4042ba5b8598",
   "metadata": {
    "tags": []
   },
   "outputs": [],
   "source": [
    "customer = \"customer.csv\"\n",
    "\n",
    "customer_data = pd.read_csv(customer, low_memory=False)\n",
    "\n",
    "customer_data.head()"
   ]
  },
  {
   "cell_type": "code",
   "execution_count": null,
   "id": "17a02a13-7f96-4f18-b5bd-12ef17b94b27",
   "metadata": {},
   "outputs": [],
   "source": [
    "# List of correct Mexican state names and mappings for common incorrect variations\n",
    "correct_states = {\n",
    "    \"CDMX\": \"CIUDAD DE MEXICO\",\n",
    "    \"QRO.\": \"QUERETARO\",\n",
    "    \"CDMX.\": \"CIUDAD DE MEXICO\",\n",
    "    \"EDMX\": \"CIUDAD DE MEXICO\",\n",
    "    \"MX\": \"CIUDAD DE MEXICO\",\n",
    "    \"D. F.\": \"CIUDAD DE MEXICO\",\n",
    "    \"DF\": \"CIUDAD DE MEXICO\",\n",
    "    \"D, F.\": \"CIUDAD DE MEXICO\",\n",
    "    \"EDO Q. ROO\": \"QUINTANA ROO\",\n",
    "    \"HGO\": \"HIDALGO\",\n",
    "    \"HGO.\": \"HIDALGO\",\n",
    "    \"SN LUIS POTOSI\": \"SAN LUIS POTOSI\",\n",
    "    \"EDO MEX\": \"ESTADO DE MEXICO\",\n",
    "    \"EDO VER\": \"VERACRUZ\",\n",
    "    \"EDO HGO\": \"ESTADO DE MEXICO\",\n",
    "    \"EDO GRO\": \"GUERRERO\",\n",
    "    \"LA PAZ\": \"BAJA CALIFORNIA SUR\",\n",
    "    \"HIDALGO\": \"HIDALGO\",\n",
    "    \"ESTADO DE MEXICO\": \"ESTADO DE MEXICO\",\n",
    "    \"QUERETARO\": \"QUERETARO\",\n",
    "    \"CANCUN QUINTANAROO\": \"QUINTANA ROO\",  # Correcting this entry\n",
    "    \"QUINTANAROO\": \"QUINTANA ROO\",         # Another variation of \"QUINTANA ROO\"\n",
    "    \"VERACRUZ DE IGNACIO DE LA LLAVE\": \"VERACRUZ\",  # Correcting Veracruz name\n",
    "    # Additional mappings can be added here as needed\n",
    "}\n",
    "\n",
    "# Load the CSV file from the current working directory\n",
    "df = pd.read_csv('customer.csv')\n",
    "\n",
    "# Standardize the \"Location\" column to uppercase\n",
    "df['Location'] = df['Location'].str.upper()\n",
    "\n",
    "# Replace non-standard or incorrect names with correct ones using the updated mapping\n",
    "df['Location'] = df['Location'].replace(correct_states)\n",
    "\n",
    "df[\"Location\"].fillna(\"CIUDAD DE MEXICO\", inplace=True)\n",
    "df.head()"
   ]
  },
  {
   "cell_type": "code",
   "execution_count": null,
   "id": "ba14f6e0-6f58-4b1a-bba5-b388489f6b66",
   "metadata": {},
   "outputs": [],
   "source": [
    "# List of valid Mexican state names\n",
    "valid_states = [\n",
    "    \"CIUDAD DE MEXICO\", \"HIDALGO\", \"ESTADO DE MEXICO\", \"QUERETARO\", \"QUINTANA ROO\", \n",
    "    \"VERACRUZ\", \"YUCATAN\", \"CHIAPAS\", \"JALISCO\", \"GUANAJUATO\", \"PUEBLA\",\n",
    "    # Add all other valid Mexican state names here\n",
    "\n",
    "\n",
    "\n",
    "]\n",
    "\n",
    "# Function to match incorrect names to valid state names using fuzzy matching\n",
    "def match_state(state):\n",
    "    if isinstance(state, str):  # Only apply fuzzy matching if the value is a string\n",
    "        match, score = process.extractOne(state, valid_states)\n",
    "        if score >= 80:  # Set a threshold score for matching (e.g., 80%)\n",
    "            return match\n",
    "    return state  # If not a string or no good match, return the original value\n",
    "\n",
    "# Apply fuzzy matching to the \"Location\" column\n",
    "df['Location'] = df['Location'].apply(match_state)\n"
   ]
  },
  {
   "cell_type": "code",
   "execution_count": null,
   "id": "59ccbae5-fe4e-47ba-9e18-a887c3d53fd6",
   "metadata": {
    "tags": []
   },
   "outputs": [],
   "source": [
    "# Define the mapping of states to zones, all in uppercase\n",
    "state_to_zone = {\n",
    "    # South zone states\n",
    "    'CHIAPAS': 'south',\n",
    "    'OAXACA': 'south',\n",
    "    'TABASCO': 'south',\n",
    "    'YUCATAN': 'south',\n",
    "    'CAMPECHE': 'south',\n",
    "    'QUINTANA ROO': 'south',\n",
    "    'VERACRUZ': 'south',\n",
    "    \n",
    "    # North zone states\n",
    "    'NUEVO LEON': 'north',\n",
    "    'SONORA': 'north',\n",
    "    'CHIHUAHUA': 'north',\n",
    "    'COAHUILA': 'north',\n",
    "    'TAMAULIPAS': 'north',\n",
    "    'BAJA CALIFORNIA SUR': 'north',\n",
    "    'BAJA CALIFORNIA NORTE': 'north',\n",
    "    'DURANGO': 'north',\n",
    "    'SINALOA': 'north',\n",
    "    \n",
    "    # Center zone states\n",
    "    'CIUDAD DE MEXICO': 'center',\n",
    "    'JALISCO': 'center',\n",
    "    'PUEBLA': 'center',\n",
    "    'QUERETARO': 'center',\n",
    "    'HIDALGO': 'center',\n",
    "    'ESTADO DE MEXICO': 'center',\n",
    "    'GUERRERO': 'center',\n",
    "    'TLAXCALA': 'center',\n",
    "    'COLIMA': 'center',\n",
    "    'GUANAJUATO': 'center',\n",
    "    'MICHOACAN': 'center',\n",
    "    'SAN LUIS POTOSI': 'center',\n",
    "    'MORELOS': 'center',\n",
    "    'NAYARIT': 'center',\n",
    "    'ZACATECAS': 'center',\n",
    "    'AGUASCALIENTES': 'center',\n",
    "}\n",
    "\n",
    "# Ensure 'Kcustomer' column is in uppercase before mapping\n",
    "df['Kcustomer'] = df['Kcustomer'].str.upper()\n",
    "\n",
    "df['Kcustomer'] = df['Kcustomer'].apply(lambda x: state_to_zone.get(x, 'center'))\n",
    "\n",
    "# Display the DataFrame\n",
    "df.head()"
   ]
  },
  {
   "cell_type": "code",
   "execution_count": null,
   "id": "f4426782-50a1-45d5-9eae-5236642440e7",
   "metadata": {
    "tags": []
   },
   "outputs": [],
   "source": [
    "df=df.rename(\n",
    "columns = {\n",
    "\"Customer\": \"customer\",\n",
    "\"Class\": \"type_c\",\n",
    "\"Kcustomer\": \"consumption_c\",\n",
    "\"Location\": \"location_c\"\n",
    "}\n",
    ")\n",
    "df.head()"
   ]
  },
  {
   "cell_type": "code",
   "execution_count": null,
   "id": "43f1a0db-5c01-4f37-8f9c-e6e262acbeac",
   "metadata": {
    "tags": []
   },
   "outputs": [],
   "source": [
    "# Save the corrected dataframe to a new CSV file in the same directory\n",
    "df.to_csv('customer_corrected.csv', index=False)\n",
    "\n",
    "df.head()\n"
   ]
  },
  {
   "cell_type": "code",
   "execution_count": null,
   "id": "60293e31-a735-4512-929b-fa502f0d497b",
   "metadata": {
    "tags": []
   },
   "outputs": [],
   "source": [
    "df.isnull().sum()"
   ]
  },
  {
   "cell_type": "code",
   "execution_count": null,
   "id": "e3a2fb71-3e05-4109-b419-12dfa284b3d8",
   "metadata": {},
   "outputs": [],
   "source": []
  }
 ],
 "metadata": {
  "kernelspec": {
   "display_name": "Python 3 (ipykernel)",
   "language": "python",
   "name": "python3"
  },
  "language_info": {
   "codemirror_mode": {
    "name": "ipython",
    "version": 3
   },
   "file_extension": ".py",
   "mimetype": "text/x-python",
   "name": "python",
   "nbconvert_exporter": "python",
   "pygments_lexer": "ipython3",
   "version": "3.11.7"
  }
 },
 "nbformat": 4,
 "nbformat_minor": 5
}
