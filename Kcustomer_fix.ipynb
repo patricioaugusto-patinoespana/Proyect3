{
 "cells": [
  {
   "cell_type": "code",
   "execution_count": null,
   "metadata": {},
   "outputs": [],
   "source": [
    "# Define the mapping of states to zones, all in uppercase\n",
    "state_to_zone = {\n",
    "    # South zone states\n",
    "    'CHIAPAS': 'south',\n",
    "    'OAXACA': 'south',\n",
    "    'TABASCO': 'south',\n",
    "    'YUCATAN': 'south',\n",
    "    'CAMPECHE': 'south',\n",
    "    'QUINTANA ROO': 'south',\n",
    "    'VERACRUZ': 'south',\n",
    "    \n",
    "    # North zone states\n",
    "    'NUEVO LEON': 'north',\n",
    "    'SONORA': 'north',\n",
    "    'CHIHUAHUA': 'north',\n",
    "    'COAHUILA': 'north',\n",
    "    'TAMAULIPAS': 'north',\n",
    "    'BAJA CALIFORNIA SUR': 'north',\n",
    "    'BAJA CALIFORNIA NORTE': 'north',\n",
    "    'DURANGO': 'north',\n",
    "    'SINALOA': 'north',\n",
    "    \n",
    "    # Center zone states\n",
    "    'CIUDAD DE MEXICO': 'center',\n",
    "    'JALISCO': 'center',\n",
    "    'PUEBLA': 'center',\n",
    "    'QUERETARO': 'center',\n",
    "    'HIDALGO': 'center',\n",
    "    'ESTADO DE MEXICO': 'center',\n",
    "    'GUERRERO': 'center',\n",
    "    'TLAXCALA': 'center',\n",
    "    'COLIMA': 'center',\n",
    "    'GUANAJUATO': 'center',\n",
    "    'MICHOACAN': 'center',\n",
    "    'SAN LUIS POTOSI': 'center',\n",
    "    'MORELOS': 'center',\n",
    "    'NAYARIT': 'center',\n",
    "    'ZACATECAS': 'center',\n",
    "    'AGUASCALIENTES': 'center',\n",
    "}\n",
    "\n",
    "# Ensure 'Kcustomer' column is in uppercase before mapping\n",
    "df['Kcustomer'] = df['Kcustomer'].str.upper()\n",
    "\n",
    "df['Kcustomer'] = df['Kcustomer'].apply(lambda x: state_to_zone.get(x, 'center'))\n",
    "\n",
    "# Display the DataFrame\n",
    "df.head(80)"
   ]
  },
  {
   "cell_type": "code",
   "execution_count": null,
   "metadata": {},
   "outputs": [],
   "source": []
  }
 ],
 "metadata": {
  "language_info": {
   "name": "python"
  }
 },
 "nbformat": 4,
 "nbformat_minor": 2
}
